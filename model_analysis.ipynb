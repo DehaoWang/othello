{
 "cells": [
  {
   "cell_type": "code",
   "execution_count": 1,
   "metadata": {
    "autoscroll": "json-false",
    "collapsed": false,
    "ein.tags": [
     "worksheet-0"
    ]
   },
   "outputs": [],
   "source": [
    "from __future__ import print_function\n",
    "import numpy as np\n",
    "import matplotlib.pyplot as plt\n",
    "import pandas as pd\n",
    "\n",
    "%matplotlib inline"
   ]
  },
  {
   "cell_type": "code",
   "execution_count": 2,
   "metadata": {
    "autoscroll": "json-false",
    "collapsed": false,
    "ein.tags": [
     "worksheet-0"
    ]
   },
   "outputs": [],
   "source": [
    "from value import ModelScorer"
   ]
  },
  {
   "cell_type": "code",
   "execution_count": 5,
   "metadata": {
    "autoscroll": "json-false",
    "collapsed": false,
    "ein.tags": [
     "worksheet-0"
    ]
   },
   "outputs": [],
   "source": [
    "m = ModelScorer(\"./model/model.cpt.npy.6\")"
   ]
  },
  {
   "cell_type": "code",
   "execution_count": 42,
   "metadata": {
    "autoscroll": "json-false",
    "collapsed": false,
    "ein.tags": [
     "worksheet-0"
    ]
   },
   "outputs": [],
   "source": [
    "import sys\n",
    "def draw_pattern_weight(m, stage, corner, direction, state):\n",
    "    idx = 0\n",
    "    weight = 0\n",
    "    for (x, y), corners in m._patterns:\n",
    "        for r, c in corners:\n",
    "            if corner == (r, c) and direction == (x, y):\n",
    "                weight = m._weights[stage][state[0]*3 + state[1] + idx * 9]\n",
    "            idx += 1\n",
    "\n",
    "    corner2 = (corner[0] + direction[0], corner[1] + direction[1])\n",
    "    prt = sys.stdout.write\n",
    "    print(\"weight: {}\".format(weight))\n",
    "    symbols = ['-', '*', 'o']\n",
    "    for r in range(0, 8):\n",
    "        for c in range(0, 8):\n",
    "            if (r, c) == corner:\n",
    "                prt(symbols[state[0]])\n",
    "            elif (r, c) == corner2:\n",
    "                prt(symbols[state[1]])\n",
    "            else:\n",
    "                prt(symbols[0])\n",
    "        prt('\\n')"
   ]
  },
  {
   "cell_type": "code",
   "execution_count": 0,
   "metadata": {
    "autoscroll": "json-false",
    "collapsed": false,
    "ein.tags": [
     "worksheet-0"
    ]
   },
   "outputs": [],
   "source": [
    "draw_pattern_weight(m, 3, (1, 1), (0, 1), (1, 2))"
   ]
  }
 ],
 "metadata": {
  "kernelspec": {
   "display_name": "Python 2",
   "name": "python2"
  },
  "name": "model_analysis.ipynb"
 },
 "nbformat": 4,
 "nbformat_minor": 1
}
